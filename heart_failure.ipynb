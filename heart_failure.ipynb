{
 "cells": [
  {
   "cell_type": "code",
   "execution_count": 134,
   "source": [
    "import pandas as pd\n",
    "from sklearn.preprocessing import StandardScaler, LabelEncoder\n",
    "from sklearn.model_selection import train_test_split\n",
    "from collections import Counter\n",
    "from sklearn.compose import ColumnTransformer\n",
    "from tensorflow.keras.models import Sequential\n",
    "from tensorflow.keras.layers import Dense, InputLayer\n",
    "from sklearn.metrics import classification_report\n",
    "from tensorflow.keras.utils import to_categorical\n",
    "import numpy as np"
   ],
   "outputs": [],
   "metadata": {}
  },
  {
   "cell_type": "code",
   "execution_count": 135,
   "source": [
    "data = pd.read_csv(\"heart_failure.csv\")\n",
    "data.info()\n",
    "data"
   ],
   "outputs": [
    {
     "output_type": "stream",
     "name": "stdout",
     "text": [
      "<class 'pandas.core.frame.DataFrame'>\n",
      "RangeIndex: 299 entries, 0 to 298\n",
      "Data columns (total 15 columns):\n",
      " #   Column                    Non-Null Count  Dtype  \n",
      "---  ------                    --------------  -----  \n",
      " 0   Unnamed: 0                299 non-null    int64  \n",
      " 1   age                       299 non-null    float64\n",
      " 2   anaemia                   299 non-null    object \n",
      " 3   creatinine_phosphokinase  299 non-null    int64  \n",
      " 4   diabetes                  299 non-null    object \n",
      " 5   ejection_fraction         299 non-null    int64  \n",
      " 6   high_blood_pressure       299 non-null    object \n",
      " 7   platelets                 299 non-null    float64\n",
      " 8   serum_creatinine          299 non-null    float64\n",
      " 9   serum_sodium              299 non-null    int64  \n",
      " 10  sex                       299 non-null    object \n",
      " 11  smoking                   299 non-null    object \n",
      " 12  time                      299 non-null    int64  \n",
      " 13  DEATH_EVENT               299 non-null    int64  \n",
      " 14  death_event               299 non-null    object \n",
      "dtypes: float64(3), int64(6), object(6)\n",
      "memory usage: 35.2+ KB\n"
     ]
    },
    {
     "output_type": "execute_result",
     "data": {
      "text/plain": [
       "     Unnamed: 0   age anaemia  creatinine_phosphokinase diabetes  \\\n",
       "0             0  75.0      no                       582       no   \n",
       "1             1  55.0      no                      7861       no   \n",
       "2             2  65.0      no                       146       no   \n",
       "3             3  50.0     yes                       111       no   \n",
       "4             4  65.0     yes                       160      yes   \n",
       "..          ...   ...     ...                       ...      ...   \n",
       "294         294  62.0      no                        61      yes   \n",
       "295         295  55.0      no                      1820       no   \n",
       "296         296  45.0      no                      2060      yes   \n",
       "297         297  45.0      no                      2413       no   \n",
       "298         298  50.0      no                       196       no   \n",
       "\n",
       "     ejection_fraction high_blood_pressure  platelets  serum_creatinine  \\\n",
       "0                   20                 yes  265000.00               1.9   \n",
       "1                   38                  no  263358.03               1.1   \n",
       "2                   20                  no  162000.00               1.3   \n",
       "3                   20                  no  210000.00               1.9   \n",
       "4                   20                  no  327000.00               2.7   \n",
       "..                 ...                 ...        ...               ...   \n",
       "294                 38                 yes  155000.00               1.1   \n",
       "295                 38                  no  270000.00               1.2   \n",
       "296                 60                  no  742000.00               0.8   \n",
       "297                 38                  no  140000.00               1.4   \n",
       "298                 45                  no  395000.00               1.6   \n",
       "\n",
       "     serum_sodium  sex smoking  time  DEATH_EVENT death_event  \n",
       "0             130  yes      no     4            1         yes  \n",
       "1             136  yes      no     6            1         yes  \n",
       "2             129  yes     yes     7            1         yes  \n",
       "3             137  yes      no     7            1         yes  \n",
       "4             116   no      no     8            1         yes  \n",
       "..            ...  ...     ...   ...          ...         ...  \n",
       "294           143  yes     yes   270            0          no  \n",
       "295           139   no      no   271            0          no  \n",
       "296           138   no      no   278            0          no  \n",
       "297           140  yes     yes   280            0          no  \n",
       "298           136  yes     yes   285            0          no  \n",
       "\n",
       "[299 rows x 15 columns]"
      ],
      "text/html": [
       "<div>\n",
       "<style scoped>\n",
       "    .dataframe tbody tr th:only-of-type {\n",
       "        vertical-align: middle;\n",
       "    }\n",
       "\n",
       "    .dataframe tbody tr th {\n",
       "        vertical-align: top;\n",
       "    }\n",
       "\n",
       "    .dataframe thead th {\n",
       "        text-align: right;\n",
       "    }\n",
       "</style>\n",
       "<table border=\"1\" class=\"dataframe\">\n",
       "  <thead>\n",
       "    <tr style=\"text-align: right;\">\n",
       "      <th></th>\n",
       "      <th>Unnamed: 0</th>\n",
       "      <th>age</th>\n",
       "      <th>anaemia</th>\n",
       "      <th>creatinine_phosphokinase</th>\n",
       "      <th>diabetes</th>\n",
       "      <th>ejection_fraction</th>\n",
       "      <th>high_blood_pressure</th>\n",
       "      <th>platelets</th>\n",
       "      <th>serum_creatinine</th>\n",
       "      <th>serum_sodium</th>\n",
       "      <th>sex</th>\n",
       "      <th>smoking</th>\n",
       "      <th>time</th>\n",
       "      <th>DEATH_EVENT</th>\n",
       "      <th>death_event</th>\n",
       "    </tr>\n",
       "  </thead>\n",
       "  <tbody>\n",
       "    <tr>\n",
       "      <th>0</th>\n",
       "      <td>0</td>\n",
       "      <td>75.0</td>\n",
       "      <td>no</td>\n",
       "      <td>582</td>\n",
       "      <td>no</td>\n",
       "      <td>20</td>\n",
       "      <td>yes</td>\n",
       "      <td>265000.00</td>\n",
       "      <td>1.9</td>\n",
       "      <td>130</td>\n",
       "      <td>yes</td>\n",
       "      <td>no</td>\n",
       "      <td>4</td>\n",
       "      <td>1</td>\n",
       "      <td>yes</td>\n",
       "    </tr>\n",
       "    <tr>\n",
       "      <th>1</th>\n",
       "      <td>1</td>\n",
       "      <td>55.0</td>\n",
       "      <td>no</td>\n",
       "      <td>7861</td>\n",
       "      <td>no</td>\n",
       "      <td>38</td>\n",
       "      <td>no</td>\n",
       "      <td>263358.03</td>\n",
       "      <td>1.1</td>\n",
       "      <td>136</td>\n",
       "      <td>yes</td>\n",
       "      <td>no</td>\n",
       "      <td>6</td>\n",
       "      <td>1</td>\n",
       "      <td>yes</td>\n",
       "    </tr>\n",
       "    <tr>\n",
       "      <th>2</th>\n",
       "      <td>2</td>\n",
       "      <td>65.0</td>\n",
       "      <td>no</td>\n",
       "      <td>146</td>\n",
       "      <td>no</td>\n",
       "      <td>20</td>\n",
       "      <td>no</td>\n",
       "      <td>162000.00</td>\n",
       "      <td>1.3</td>\n",
       "      <td>129</td>\n",
       "      <td>yes</td>\n",
       "      <td>yes</td>\n",
       "      <td>7</td>\n",
       "      <td>1</td>\n",
       "      <td>yes</td>\n",
       "    </tr>\n",
       "    <tr>\n",
       "      <th>3</th>\n",
       "      <td>3</td>\n",
       "      <td>50.0</td>\n",
       "      <td>yes</td>\n",
       "      <td>111</td>\n",
       "      <td>no</td>\n",
       "      <td>20</td>\n",
       "      <td>no</td>\n",
       "      <td>210000.00</td>\n",
       "      <td>1.9</td>\n",
       "      <td>137</td>\n",
       "      <td>yes</td>\n",
       "      <td>no</td>\n",
       "      <td>7</td>\n",
       "      <td>1</td>\n",
       "      <td>yes</td>\n",
       "    </tr>\n",
       "    <tr>\n",
       "      <th>4</th>\n",
       "      <td>4</td>\n",
       "      <td>65.0</td>\n",
       "      <td>yes</td>\n",
       "      <td>160</td>\n",
       "      <td>yes</td>\n",
       "      <td>20</td>\n",
       "      <td>no</td>\n",
       "      <td>327000.00</td>\n",
       "      <td>2.7</td>\n",
       "      <td>116</td>\n",
       "      <td>no</td>\n",
       "      <td>no</td>\n",
       "      <td>8</td>\n",
       "      <td>1</td>\n",
       "      <td>yes</td>\n",
       "    </tr>\n",
       "    <tr>\n",
       "      <th>...</th>\n",
       "      <td>...</td>\n",
       "      <td>...</td>\n",
       "      <td>...</td>\n",
       "      <td>...</td>\n",
       "      <td>...</td>\n",
       "      <td>...</td>\n",
       "      <td>...</td>\n",
       "      <td>...</td>\n",
       "      <td>...</td>\n",
       "      <td>...</td>\n",
       "      <td>...</td>\n",
       "      <td>...</td>\n",
       "      <td>...</td>\n",
       "      <td>...</td>\n",
       "      <td>...</td>\n",
       "    </tr>\n",
       "    <tr>\n",
       "      <th>294</th>\n",
       "      <td>294</td>\n",
       "      <td>62.0</td>\n",
       "      <td>no</td>\n",
       "      <td>61</td>\n",
       "      <td>yes</td>\n",
       "      <td>38</td>\n",
       "      <td>yes</td>\n",
       "      <td>155000.00</td>\n",
       "      <td>1.1</td>\n",
       "      <td>143</td>\n",
       "      <td>yes</td>\n",
       "      <td>yes</td>\n",
       "      <td>270</td>\n",
       "      <td>0</td>\n",
       "      <td>no</td>\n",
       "    </tr>\n",
       "    <tr>\n",
       "      <th>295</th>\n",
       "      <td>295</td>\n",
       "      <td>55.0</td>\n",
       "      <td>no</td>\n",
       "      <td>1820</td>\n",
       "      <td>no</td>\n",
       "      <td>38</td>\n",
       "      <td>no</td>\n",
       "      <td>270000.00</td>\n",
       "      <td>1.2</td>\n",
       "      <td>139</td>\n",
       "      <td>no</td>\n",
       "      <td>no</td>\n",
       "      <td>271</td>\n",
       "      <td>0</td>\n",
       "      <td>no</td>\n",
       "    </tr>\n",
       "    <tr>\n",
       "      <th>296</th>\n",
       "      <td>296</td>\n",
       "      <td>45.0</td>\n",
       "      <td>no</td>\n",
       "      <td>2060</td>\n",
       "      <td>yes</td>\n",
       "      <td>60</td>\n",
       "      <td>no</td>\n",
       "      <td>742000.00</td>\n",
       "      <td>0.8</td>\n",
       "      <td>138</td>\n",
       "      <td>no</td>\n",
       "      <td>no</td>\n",
       "      <td>278</td>\n",
       "      <td>0</td>\n",
       "      <td>no</td>\n",
       "    </tr>\n",
       "    <tr>\n",
       "      <th>297</th>\n",
       "      <td>297</td>\n",
       "      <td>45.0</td>\n",
       "      <td>no</td>\n",
       "      <td>2413</td>\n",
       "      <td>no</td>\n",
       "      <td>38</td>\n",
       "      <td>no</td>\n",
       "      <td>140000.00</td>\n",
       "      <td>1.4</td>\n",
       "      <td>140</td>\n",
       "      <td>yes</td>\n",
       "      <td>yes</td>\n",
       "      <td>280</td>\n",
       "      <td>0</td>\n",
       "      <td>no</td>\n",
       "    </tr>\n",
       "    <tr>\n",
       "      <th>298</th>\n",
       "      <td>298</td>\n",
       "      <td>50.0</td>\n",
       "      <td>no</td>\n",
       "      <td>196</td>\n",
       "      <td>no</td>\n",
       "      <td>45</td>\n",
       "      <td>no</td>\n",
       "      <td>395000.00</td>\n",
       "      <td>1.6</td>\n",
       "      <td>136</td>\n",
       "      <td>yes</td>\n",
       "      <td>yes</td>\n",
       "      <td>285</td>\n",
       "      <td>0</td>\n",
       "      <td>no</td>\n",
       "    </tr>\n",
       "  </tbody>\n",
       "</table>\n",
       "<p>299 rows × 15 columns</p>\n",
       "</div>"
      ]
     },
     "metadata": {},
     "execution_count": 135
    }
   ],
   "metadata": {}
  },
  {
   "cell_type": "code",
   "execution_count": 136,
   "source": [
    "print('Classes and number of values in the dataset',Counter(data['death_event']))"
   ],
   "outputs": [
    {
     "output_type": "stream",
     "name": "stdout",
     "text": [
      "Classes and number of values in the dataset Counter({'no': 203, 'yes': 96})\n"
     ]
    }
   ],
   "metadata": {}
  },
  {
   "cell_type": "code",
   "execution_count": 137,
   "source": [
    "y = data ['death_event']"
   ],
   "outputs": [],
   "metadata": {}
  },
  {
   "cell_type": "code",
   "execution_count": 138,
   "source": [
    "x = data[['age','anaemia','creatinine_phosphokinase','diabetes','ejection_fraction','high_blood_pressure','platelets','serum_creatinine','serum_sodium','sex','smoking','time']]"
   ],
   "outputs": [],
   "metadata": {}
  },
  {
   "cell_type": "code",
   "execution_count": 139,
   "source": [
    "x = pd.get_dummies(x)"
   ],
   "outputs": [],
   "metadata": {}
  },
  {
   "cell_type": "code",
   "execution_count": 140,
   "source": [
    "X_train, X_test, Y_train, Y_test = train_test_split(x, y, test_size= 0.3, random_state=0)"
   ],
   "outputs": [],
   "metadata": {}
  },
  {
   "cell_type": "code",
   "execution_count": 141,
   "source": [
    "ct = ColumnTransformer([(\"numeric\", StandardScaler(), ['age','creatinine_phosphokinase','ejection_fraction','platelets','serum_creatinine','serum_sodium','time'])])"
   ],
   "outputs": [],
   "metadata": {}
  },
  {
   "cell_type": "code",
   "execution_count": 142,
   "source": [
    "X_train = ct.fit_transform(X_train)"
   ],
   "outputs": [],
   "metadata": {}
  },
  {
   "cell_type": "code",
   "execution_count": 143,
   "source": [
    "X_test = ct.transform(X_test)"
   ],
   "outputs": [],
   "metadata": {}
  },
  {
   "cell_type": "code",
   "execution_count": 144,
   "source": [
    "le = LabelEncoder()"
   ],
   "outputs": [],
   "metadata": {}
  },
  {
   "cell_type": "code",
   "execution_count": 145,
   "source": [
    "Y_train = le.fit_transform(Y_train.astype(str))"
   ],
   "outputs": [],
   "metadata": {}
  },
  {
   "cell_type": "code",
   "execution_count": 146,
   "source": [
    "Y_test = le.transform(Y_test.astype(str))"
   ],
   "outputs": [],
   "metadata": {}
  },
  {
   "cell_type": "code",
   "execution_count": 147,
   "source": [
    "Y_train = to_categorical(Y_train)"
   ],
   "outputs": [],
   "metadata": {}
  },
  {
   "cell_type": "code",
   "execution_count": 148,
   "source": [
    "Y_test = to_categorical(Y_test)"
   ],
   "outputs": [],
   "metadata": {}
  },
  {
   "cell_type": "code",
   "execution_count": 149,
   "source": [
    "model = Sequential()"
   ],
   "outputs": [],
   "metadata": {}
  },
  {
   "cell_type": "code",
   "execution_count": 150,
   "source": [
    "model.add(InputLayer(input_shape=(X_train.shape[1],)))"
   ],
   "outputs": [],
   "metadata": {}
  },
  {
   "cell_type": "code",
   "execution_count": 151,
   "source": [
    "model.add(Dense(12, activation='relu'))"
   ],
   "outputs": [],
   "metadata": {}
  },
  {
   "cell_type": "code",
   "execution_count": 152,
   "source": [
    "model.add(Dense(2, activation='softmax'))"
   ],
   "outputs": [],
   "metadata": {}
  },
  {
   "cell_type": "code",
   "execution_count": 153,
   "source": [
    "model.compile(loss = 'categorical_crossentropy', optimizer = 'adam', metrics = ['accuracy'])"
   ],
   "outputs": [],
   "metadata": {}
  },
  {
   "cell_type": "code",
   "execution_count": 154,
   "source": [
    "model.fit(X_test, Y_test, epochs = 100, batch_size = 16, verbose = 1)"
   ],
   "outputs": [
    {
     "output_type": "stream",
     "name": "stdout",
     "text": [
      "Train on 90 samples\n",
      "Epoch 1/100\n",
      "90/90 [==============================] - 1s 7ms/sample - loss: 0.7313 - accuracy: 0.5000\n",
      "Epoch 2/100\n",
      "90/90 [==============================] - 0s 212us/sample - loss: 0.7117 - accuracy: 0.5222\n",
      "Epoch 3/100\n",
      "90/90 [==============================] - 0s 206us/sample - loss: 0.6960 - accuracy: 0.5000\n",
      "Epoch 4/100\n",
      "90/90 [==============================] - 0s 210us/sample - loss: 0.6783 - accuracy: 0.5444\n",
      "Epoch 5/100\n",
      "90/90 [==============================] - 0s 225us/sample - loss: 0.6648 - accuracy: 0.6000\n",
      "Epoch 6/100\n",
      "90/90 [==============================] - 0s 214us/sample - loss: 0.6511 - accuracy: 0.6333\n",
      "Epoch 7/100\n",
      "90/90 [==============================] - 0s 701us/sample - loss: 0.6388 - accuracy: 0.6444\n",
      "Epoch 8/100\n",
      "90/90 [==============================] - 0s 234us/sample - loss: 0.6265 - accuracy: 0.7111\n",
      "Epoch 9/100\n",
      "90/90 [==============================] - 0s 229us/sample - loss: 0.6151 - accuracy: 0.7444\n",
      "Epoch 10/100\n",
      "90/90 [==============================] - 0s 245us/sample - loss: 0.6054 - accuracy: 0.7667\n",
      "Epoch 11/100\n",
      "90/90 [==============================] - 0s 404us/sample - loss: 0.5951 - accuracy: 0.7556\n",
      "Epoch 12/100\n",
      "90/90 [==============================] - 0s 509us/sample - loss: 0.5850 - accuracy: 0.7556\n",
      "Epoch 13/100\n",
      "90/90 [==============================] - 0s 217us/sample - loss: 0.5773 - accuracy: 0.7667\n",
      "Epoch 14/100\n",
      "90/90 [==============================] - 0s 210us/sample - loss: 0.5682 - accuracy: 0.7778\n",
      "Epoch 15/100\n",
      "90/90 [==============================] - 0s 255us/sample - loss: 0.5601 - accuracy: 0.7889\n",
      "Epoch 16/100\n",
      "90/90 [==============================] - 0s 228us/sample - loss: 0.5527 - accuracy: 0.7889\n",
      "Epoch 17/100\n",
      "90/90 [==============================] - 0s 233us/sample - loss: 0.5448 - accuracy: 0.8000\n",
      "Epoch 18/100\n",
      "90/90 [==============================] - 0s 203us/sample - loss: 0.5375 - accuracy: 0.8333\n",
      "Epoch 19/100\n",
      "90/90 [==============================] - 0s 215us/sample - loss: 0.5299 - accuracy: 0.8333\n",
      "Epoch 20/100\n",
      "90/90 [==============================] - 0s 209us/sample - loss: 0.5235 - accuracy: 0.8222\n",
      "Epoch 21/100\n",
      "90/90 [==============================] - 0s 208us/sample - loss: 0.5169 - accuracy: 0.8222\n",
      "Epoch 22/100\n",
      "90/90 [==============================] - 0s 210us/sample - loss: 0.5105 - accuracy: 0.8222\n",
      "Epoch 23/100\n",
      "90/90 [==============================] - 0s 226us/sample - loss: 0.5045 - accuracy: 0.8222\n",
      "Epoch 24/100\n",
      "90/90 [==============================] - 0s 212us/sample - loss: 0.4984 - accuracy: 0.8333\n",
      "Epoch 25/100\n",
      "90/90 [==============================] - 0s 243us/sample - loss: 0.4924 - accuracy: 0.8333\n",
      "Epoch 26/100\n",
      "90/90 [==============================] - 0s 250us/sample - loss: 0.4866 - accuracy: 0.8333\n",
      "Epoch 27/100\n",
      "90/90 [==============================] - 0s 224us/sample - loss: 0.4812 - accuracy: 0.8333\n",
      "Epoch 28/100\n",
      "90/90 [==============================] - 0s 214us/sample - loss: 0.4753 - accuracy: 0.8333\n",
      "Epoch 29/100\n",
      "90/90 [==============================] - 0s 224us/sample - loss: 0.4699 - accuracy: 0.8333\n",
      "Epoch 30/100\n",
      "90/90 [==============================] - 0s 214us/sample - loss: 0.4646 - accuracy: 0.8333\n",
      "Epoch 31/100\n",
      "90/90 [==============================] - 0s 226us/sample - loss: 0.4597 - accuracy: 0.8333\n",
      "Epoch 32/100\n",
      "90/90 [==============================] - 0s 293us/sample - loss: 0.4545 - accuracy: 0.8444\n",
      "Epoch 33/100\n",
      "90/90 [==============================] - 0s 282us/sample - loss: 0.4496 - accuracy: 0.8444\n",
      "Epoch 34/100\n",
      "90/90 [==============================] - 0s 235us/sample - loss: 0.4449 - accuracy: 0.8556\n",
      "Epoch 35/100\n",
      "90/90 [==============================] - 0s 242us/sample - loss: 0.4400 - accuracy: 0.8556\n",
      "Epoch 36/100\n",
      "90/90 [==============================] - 0s 207us/sample - loss: 0.4354 - accuracy: 0.8556\n",
      "Epoch 37/100\n",
      "90/90 [==============================] - 0s 252us/sample - loss: 0.4311 - accuracy: 0.8556\n",
      "Epoch 38/100\n",
      "90/90 [==============================] - 0s 215us/sample - loss: 0.4264 - accuracy: 0.8556\n",
      "Epoch 39/100\n",
      "90/90 [==============================] - 0s 229us/sample - loss: 0.4220 - accuracy: 0.8556\n",
      "Epoch 40/100\n",
      "90/90 [==============================] - 0s 203us/sample - loss: 0.4180 - accuracy: 0.8556\n",
      "Epoch 41/100\n",
      "90/90 [==============================] - 0s 225us/sample - loss: 0.4136 - accuracy: 0.8556\n",
      "Epoch 42/100\n",
      "90/90 [==============================] - 0s 233us/sample - loss: 0.4095 - accuracy: 0.8556\n",
      "Epoch 43/100\n",
      "90/90 [==============================] - 0s 220us/sample - loss: 0.4054 - accuracy: 0.8556\n",
      "Epoch 44/100\n",
      "90/90 [==============================] - 0s 208us/sample - loss: 0.4015 - accuracy: 0.8556\n",
      "Epoch 45/100\n",
      "90/90 [==============================] - 0s 242us/sample - loss: 0.3977 - accuracy: 0.8556\n",
      "Epoch 46/100\n",
      "90/90 [==============================] - 0s 219us/sample - loss: 0.3943 - accuracy: 0.8556\n",
      "Epoch 47/100\n",
      "90/90 [==============================] - 0s 211us/sample - loss: 0.3908 - accuracy: 0.8556\n",
      "Epoch 48/100\n",
      "90/90 [==============================] - 0s 232us/sample - loss: 0.3868 - accuracy: 0.8556\n",
      "Epoch 49/100\n",
      "90/90 [==============================] - 0s 237us/sample - loss: 0.3835 - accuracy: 0.8556\n",
      "Epoch 50/100\n",
      "90/90 [==============================] - 0s 228us/sample - loss: 0.3801 - accuracy: 0.8556\n",
      "Epoch 51/100\n",
      "90/90 [==============================] - 0s 211us/sample - loss: 0.3770 - accuracy: 0.8556\n",
      "Epoch 52/100\n",
      "90/90 [==============================] - 0s 223us/sample - loss: 0.3737 - accuracy: 0.8556\n",
      "Epoch 53/100\n",
      "90/90 [==============================] - 0s 220us/sample - loss: 0.3705 - accuracy: 0.8667\n",
      "Epoch 54/100\n",
      "90/90 [==============================] - 0s 215us/sample - loss: 0.3677 - accuracy: 0.8667\n",
      "Epoch 55/100\n",
      "90/90 [==============================] - 0s 273us/sample - loss: 0.3646 - accuracy: 0.8667\n",
      "Epoch 56/100\n",
      "90/90 [==============================] - 0s 283us/sample - loss: 0.3618 - accuracy: 0.8667\n",
      "Epoch 57/100\n",
      "90/90 [==============================] - 0s 228us/sample - loss: 0.3589 - accuracy: 0.8667\n",
      "Epoch 58/100\n",
      "90/90 [==============================] - 0s 249us/sample - loss: 0.3559 - accuracy: 0.8667\n",
      "Epoch 59/100\n",
      "90/90 [==============================] - 0s 230us/sample - loss: 0.3531 - accuracy: 0.8667\n",
      "Epoch 60/100\n",
      "90/90 [==============================] - 0s 237us/sample - loss: 0.3505 - accuracy: 0.8667\n",
      "Epoch 61/100\n",
      "90/90 [==============================] - 0s 219us/sample - loss: 0.3482 - accuracy: 0.8667\n",
      "Epoch 62/100\n",
      "90/90 [==============================] - 0s 218us/sample - loss: 0.3455 - accuracy: 0.8778\n",
      "Epoch 63/100\n",
      "90/90 [==============================] - 0s 232us/sample - loss: 0.3433 - accuracy: 0.8778\n",
      "Epoch 64/100\n",
      "90/90 [==============================] - 0s 218us/sample - loss: 0.3406 - accuracy: 0.8778\n",
      "Epoch 65/100\n",
      "90/90 [==============================] - 0s 292us/sample - loss: 0.3386 - accuracy: 0.8778\n",
      "Epoch 66/100\n",
      "90/90 [==============================] - 0s 237us/sample - loss: 0.3361 - accuracy: 0.8778\n",
      "Epoch 67/100\n",
      "90/90 [==============================] - 0s 242us/sample - loss: 0.3340 - accuracy: 0.8889\n",
      "Epoch 68/100\n",
      "90/90 [==============================] - 0s 272us/sample - loss: 0.3317 - accuracy: 0.8889\n",
      "Epoch 69/100\n",
      "90/90 [==============================] - 0s 223us/sample - loss: 0.3297 - accuracy: 0.8889\n",
      "Epoch 70/100\n",
      "90/90 [==============================] - 0s 227us/sample - loss: 0.3275 - accuracy: 0.8889\n",
      "Epoch 71/100\n",
      "90/90 [==============================] - 0s 215us/sample - loss: 0.3253 - accuracy: 0.8889\n",
      "Epoch 72/100\n",
      "90/90 [==============================] - 0s 220us/sample - loss: 0.3237 - accuracy: 0.8889\n",
      "Epoch 73/100\n",
      "90/90 [==============================] - 0s 230us/sample - loss: 0.3215 - accuracy: 0.8889\n",
      "Epoch 74/100\n",
      "90/90 [==============================] - 0s 253us/sample - loss: 0.3196 - accuracy: 0.8889\n",
      "Epoch 75/100\n",
      "90/90 [==============================] - 0s 237us/sample - loss: 0.3177 - accuracy: 0.8889\n",
      "Epoch 76/100\n",
      "90/90 [==============================] - 0s 254us/sample - loss: 0.3158 - accuracy: 0.8889\n",
      "Epoch 77/100\n",
      "90/90 [==============================] - 0s 295us/sample - loss: 0.3141 - accuracy: 0.8889\n",
      "Epoch 78/100\n",
      "90/90 [==============================] - 0s 293us/sample - loss: 0.3123 - accuracy: 0.8889\n",
      "Epoch 79/100\n",
      "90/90 [==============================] - 0s 225us/sample - loss: 0.3105 - accuracy: 0.8889\n",
      "Epoch 80/100\n",
      "90/90 [==============================] - 0s 238us/sample - loss: 0.3086 - accuracy: 0.9111\n",
      "Epoch 81/100\n",
      "90/90 [==============================] - 0s 221us/sample - loss: 0.3069 - accuracy: 0.9111\n",
      "Epoch 82/100\n",
      "90/90 [==============================] - 0s 230us/sample - loss: 0.3052 - accuracy: 0.9111\n",
      "Epoch 83/100\n",
      "90/90 [==============================] - 0s 223us/sample - loss: 0.3034 - accuracy: 0.9111\n",
      "Epoch 84/100\n",
      "90/90 [==============================] - 0s 215us/sample - loss: 0.3019 - accuracy: 0.9111\n",
      "Epoch 85/100\n",
      "90/90 [==============================] - 0s 238us/sample - loss: 0.3002 - accuracy: 0.9111\n",
      "Epoch 86/100\n",
      "90/90 [==============================] - 0s 232us/sample - loss: 0.2985 - accuracy: 0.9111\n",
      "Epoch 87/100\n",
      "90/90 [==============================] - 0s 256us/sample - loss: 0.2969 - accuracy: 0.9111\n",
      "Epoch 88/100\n",
      "90/90 [==============================] - 0s 237us/sample - loss: 0.2953 - accuracy: 0.9111\n",
      "Epoch 89/100\n",
      "90/90 [==============================] - 0s 231us/sample - loss: 0.2936 - accuracy: 0.9111\n",
      "Epoch 90/100\n",
      "90/90 [==============================] - 0s 247us/sample - loss: 0.2923 - accuracy: 0.9222\n",
      "Epoch 91/100\n",
      "90/90 [==============================] - 0s 255us/sample - loss: 0.2905 - accuracy: 0.9222\n",
      "Epoch 92/100\n",
      "90/90 [==============================] - 0s 246us/sample - loss: 0.2890 - accuracy: 0.9222\n",
      "Epoch 93/100\n",
      "90/90 [==============================] - 0s 221us/sample - loss: 0.2877 - accuracy: 0.9222\n",
      "Epoch 94/100\n",
      "90/90 [==============================] - 0s 251us/sample - loss: 0.2861 - accuracy: 0.9222\n",
      "Epoch 95/100\n",
      "90/90 [==============================] - 0s 237us/sample - loss: 0.2851 - accuracy: 0.9222\n",
      "Epoch 96/100\n",
      "90/90 [==============================] - 0s 234us/sample - loss: 0.2833 - accuracy: 0.9222\n",
      "Epoch 97/100\n",
      "90/90 [==============================] - 0s 233us/sample - loss: 0.2821 - accuracy: 0.9222\n",
      "Epoch 98/100\n",
      "90/90 [==============================] - 0s 221us/sample - loss: 0.2805 - accuracy: 0.9222\n",
      "Epoch 99/100\n",
      "90/90 [==============================] - 0s 326us/sample - loss: 0.2792 - accuracy: 0.9222\n",
      "Epoch 100/100\n",
      "90/90 [==============================] - 0s 260us/sample - loss: 0.2780 - accuracy: 0.9222\n"
     ]
    },
    {
     "output_type": "execute_result",
     "data": {
      "text/plain": [
       "<tensorflow.python.keras.callbacks.History at 0x7f85b2a638d0>"
      ]
     },
     "metadata": {},
     "execution_count": 154
    }
   ],
   "metadata": {}
  },
  {
   "cell_type": "code",
   "execution_count": 155,
   "source": [
    "loss, acc = model.evaluate(X_test, Y_test, verbose=0)"
   ],
   "outputs": [],
   "metadata": {}
  },
  {
   "cell_type": "code",
   "execution_count": 156,
   "source": [
    "print(\"Loss: \", loss, \"Accuracy: \", acc)"
   ],
   "outputs": [
    {
     "output_type": "stream",
     "name": "stdout",
     "text": [
      "Loss:  0.27669371995660996 Accuracy:  0.9222222\n"
     ]
    }
   ],
   "metadata": {}
  },
  {
   "cell_type": "code",
   "execution_count": 157,
   "source": [
    "y_estimate = model.predict(X_test, verbose=0)"
   ],
   "outputs": [],
   "metadata": {}
  },
  {
   "cell_type": "code",
   "execution_count": 158,
   "source": [
    "y_estimate = np.argmax(y_estimate)"
   ],
   "outputs": [],
   "metadata": {}
  },
  {
   "cell_type": "code",
   "execution_count": 159,
   "source": [
    "y_true = np.argmax(Y_test)"
   ],
   "outputs": [],
   "metadata": {}
  },
  {
   "cell_type": "code",
   "execution_count": 163,
   "source": [
    "y_estimate"
   ],
   "outputs": [
    {
     "output_type": "execute_result",
     "data": {
      "text/plain": [
       "17"
      ]
     },
     "metadata": {},
     "execution_count": 163
    }
   ],
   "metadata": {}
  },
  {
   "cell_type": "code",
   "execution_count": 165,
   "source": [
    "y_true"
   ],
   "outputs": [
    {
     "output_type": "execute_result",
     "data": {
      "text/plain": [
       "0"
      ]
     },
     "metadata": {},
     "execution_count": 165
    }
   ],
   "metadata": {}
  }
 ],
 "metadata": {
  "orig_nbformat": 4,
  "language_info": {
   "name": "python",
   "version": "3.6.13",
   "mimetype": "text/x-python",
   "codemirror_mode": {
    "name": "ipython",
    "version": 3
   },
   "pygments_lexer": "ipython3",
   "nbconvert_exporter": "python",
   "file_extension": ".py"
  },
  "kernelspec": {
   "name": "python3",
   "display_name": "Python 3.6.13 64-bit ('tensorflow': conda)"
  },
  "interpreter": {
   "hash": "4ce6add6de03ec12ade4525d615de379e40b1ec772d0cb316a3e631e4469a5c4"
  }
 },
 "nbformat": 4,
 "nbformat_minor": 2
}